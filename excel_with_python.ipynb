{
 "cells": [
  {
   "cell_type": "code",
   "execution_count": 1,
   "id": "5c9f4fe3-3c41-4076-8c79-ba6345bb4e74",
   "metadata": {},
   "outputs": [],
   "source": [
    "import pandas as pd\n",
    "import numpy as np"
   ]
  },
  {
   "cell_type": "code",
   "execution_count": 2,
   "id": "a3b67a39-b806-4abf-891f-270d8ff829fa",
   "metadata": {},
   "outputs": [],
   "source": [
    "import xlwings as xw"
   ]
  },
  {
   "cell_type": "code",
   "execution_count": 3,
   "id": "efafa302-f64a-4971-b45b-b1017ee3457b",
   "metadata": {},
   "outputs": [
    {
     "data": {
      "text/html": [
       "<div>\n",
       "<style scoped>\n",
       "    .dataframe tbody tr th:only-of-type {\n",
       "        vertical-align: middle;\n",
       "    }\n",
       "\n",
       "    .dataframe tbody tr th {\n",
       "        vertical-align: top;\n",
       "    }\n",
       "\n",
       "    .dataframe thead th {\n",
       "        text-align: right;\n",
       "    }\n",
       "</style>\n",
       "<table border=\"1\" class=\"dataframe\">\n",
       "  <thead>\n",
       "    <tr style=\"text-align: right;\">\n",
       "      <th></th>\n",
       "      <th>Stu_ID</th>\n",
       "      <th>Stu_Name</th>\n",
       "      <th>Stu_DOB</th>\n",
       "      <th>Stu_DOJ</th>\n",
       "      <th>Class &amp; Div</th>\n",
       "      <th>Attendance</th>\n",
       "      <th>GR No</th>\n",
       "    </tr>\n",
       "  </thead>\n",
       "  <tbody>\n",
       "    <tr>\n",
       "      <th>34</th>\n",
       "      <td>SAPSS_2021_035</td>\n",
       "      <td>Michelle Evans MD</td>\n",
       "      <td>1995-09-18</td>\n",
       "      <td>2024-04-18</td>\n",
       "      <td>7 - B</td>\n",
       "      <td>84/90</td>\n",
       "      <td>AS14285</td>\n",
       "    </tr>\n",
       "    <tr>\n",
       "      <th>35</th>\n",
       "      <td>SAPSS_2021_036</td>\n",
       "      <td>Patricia Cook</td>\n",
       "      <td>1995-10-02</td>\n",
       "      <td>2024-04-13</td>\n",
       "      <td>7 - B</td>\n",
       "      <td>84/90</td>\n",
       "      <td>AS14286</td>\n",
       "    </tr>\n",
       "    <tr>\n",
       "      <th>36</th>\n",
       "      <td>SAPSS_2021_037</td>\n",
       "      <td>Ashley Reeves</td>\n",
       "      <td>1995-10-17</td>\n",
       "      <td>2024-04-11</td>\n",
       "      <td>7 - B</td>\n",
       "      <td>84/90</td>\n",
       "      <td>AS14287</td>\n",
       "    </tr>\n",
       "    <tr>\n",
       "      <th>37</th>\n",
       "      <td>SAPSS_2021_038</td>\n",
       "      <td>Stanley Harvey</td>\n",
       "      <td>1995-11-01</td>\n",
       "      <td>2024-04-10</td>\n",
       "      <td>7 - B</td>\n",
       "      <td>84/90</td>\n",
       "      <td>AS14288</td>\n",
       "    </tr>\n",
       "    <tr>\n",
       "      <th>38</th>\n",
       "      <td>SAPSS_2021_039</td>\n",
       "      <td>Brian Dunlap</td>\n",
       "      <td>1995-11-15</td>\n",
       "      <td>2024-04-12</td>\n",
       "      <td>7 - B</td>\n",
       "      <td>84/90</td>\n",
       "      <td>AS14289</td>\n",
       "    </tr>\n",
       "  </tbody>\n",
       "</table>\n",
       "</div>"
      ],
      "text/plain": [
       "            Stu_ID           Stu_Name    Stu_DOB    Stu_DOJ Class & Div  \\\n",
       "34  SAPSS_2021_035  Michelle Evans MD 1995-09-18 2024-04-18       7 - B   \n",
       "35  SAPSS_2021_036      Patricia Cook 1995-10-02 2024-04-13       7 - B   \n",
       "36  SAPSS_2021_037      Ashley Reeves 1995-10-17 2024-04-11       7 - B   \n",
       "37  SAPSS_2021_038     Stanley Harvey 1995-11-01 2024-04-10       7 - B   \n",
       "38  SAPSS_2021_039       Brian Dunlap 1995-11-15 2024-04-12       7 - B   \n",
       "\n",
       "   Attendance    GR No  \n",
       "34      84/90  AS14285  \n",
       "35      84/90  AS14286  \n",
       "36      84/90  AS14287  \n",
       "37      84/90  AS14288  \n",
       "38      84/90  AS14289  "
      ]
     },
     "execution_count": 3,
     "metadata": {},
     "output_type": "execute_result"
    }
   ],
   "source": [
    "file_path_01 =r\"Dataset/Stu_TBL.xlsx\"\n",
    "Stu_TBL_df = pd.read_excel(file_path_01, sheet_name='Sheet1')\n",
    "Stu_TBL_df.tail()"
   ]
  },
  {
   "cell_type": "code",
   "execution_count": 4,
   "id": "98d4c9bc-2fd9-4ae9-bff9-46be910d0de0",
   "metadata": {},
   "outputs": [],
   "source": [
    "# Subject table is fixed hence I will take it as list\n",
    "sub_TBL = [\"English\",\"Mathematics\",\"Science\",\"Social Science\",\"Hindi\",\"Physical Education\",\"Drawing\",\"Sanskrit\",\"Moral Science\"]"
   ]
  },
  {
   "cell_type": "code",
   "execution_count": 5,
   "id": "6af0188c-bb53-4d41-8fae-e4e2904adcd7",
   "metadata": {},
   "outputs": [],
   "source": [
    "grade_dictionary = {\"O\":\"Outstanding\",\"A+\":\"Excellent\",\"A\":\"Very Good\",\"B+\":\"Good\",\"B\":\"Average\",\"C\":\"Fair\",\"Fail\":\"Needs Attention\"}"
   ]
  },
  {
   "cell_type": "code",
   "execution_count": 6,
   "id": "aac7f8e1-fd70-4733-93e6-062efa7a3183",
   "metadata": {},
   "outputs": [],
   "source": [
    "def get_grade(marks):\n",
    "    if 0<marks<=34:\n",
    "        sub_grade = \"Fail\"\n",
    "        sub_remark = grade_dictionary[sub_grade]\n",
    "    elif 34<marks<=50:\n",
    "        sub_grade = \"C\"\n",
    "        sub_remark = grade_dictionary[sub_grade]        \n",
    "    elif 50<marks<=60:\n",
    "        sub_grade = \"B\"\n",
    "        sub_remark = grade_dictionary[sub_grade]     \n",
    "    elif 60<marks<=70:\n",
    "        sub_grade = \"B+\"\n",
    "        sub_remark = grade_dictionary[sub_grade]\n",
    "    elif 70<marks<=80:\n",
    "        sub_grade = \"A\"\n",
    "        sub_remark = grade_dictionary[sub_grade]        \n",
    "    elif 80<marks<=90:\n",
    "        sub_grade = \"A+\"\n",
    "        sub_remark = grade_dictionary[sub_grade]     \n",
    "    else:\n",
    "        sub_grade = \"O\"\n",
    "        sub_remark = grade_dictionary[sub_grade]  \n",
    "    return sub_grade,sub_remark"
   ]
  },
  {
   "cell_type": "code",
   "execution_count": 7,
   "id": "af745d01-0752-41da-871a-101c71d79467",
   "metadata": {},
   "outputs": [],
   "source": [
    "def get_stud_name(stud_id):\n",
    "    y =Stu_TBL_df[Stu_TBL_df['Stu_ID']==stud_id]['Stu_Name']\n",
    "    return y"
   ]
  },
  {
   "cell_type": "code",
   "execution_count": 8,
   "id": "9fb30bc3-acb1-4d14-9d62-3b56900acce1",
   "metadata": {},
   "outputs": [
    {
     "data": {
      "text/plain": [
       "36    Ashley Reeves\n",
       "Name: Stu_Name, dtype: object"
      ]
     },
     "execution_count": 8,
     "metadata": {},
     "output_type": "execute_result"
    }
   ],
   "source": [
    "get_stud_name(\"SAPSS_2021_037\")"
   ]
  },
  {
   "cell_type": "code",
   "execution_count": 9,
   "id": "d1c85f14-86fb-46a8-a51a-4e1c57b0d70f",
   "metadata": {},
   "outputs": [
    {
     "data": {
      "text/plain": [
       "('Fail', 'Needs Attention')"
      ]
     },
     "execution_count": 9,
     "metadata": {},
     "output_type": "execute_result"
    }
   ],
   "source": [
    "get_grade(12)"
   ]
  },
  {
   "cell_type": "code",
   "execution_count": 10,
   "id": "5eb2a4f8-be50-4164-834c-a99850b5e83c",
   "metadata": {},
   "outputs": [
    {
     "data": {
      "text/plain": [
       "tuple"
      ]
     },
     "execution_count": 10,
     "metadata": {},
     "output_type": "execute_result"
    }
   ],
   "source": [
    "type(get_grade(92))"
   ]
  },
  {
   "cell_type": "code",
   "execution_count": 11,
   "id": "cf0d22c7-787e-4222-ae44-f2863f52f91b",
   "metadata": {},
   "outputs": [
    {
     "data": {
      "text/html": [
       "<div>\n",
       "<style scoped>\n",
       "    .dataframe tbody tr th:only-of-type {\n",
       "        vertical-align: middle;\n",
       "    }\n",
       "\n",
       "    .dataframe tbody tr th {\n",
       "        vertical-align: top;\n",
       "    }\n",
       "\n",
       "    .dataframe thead th {\n",
       "        text-align: right;\n",
       "    }\n",
       "</style>\n",
       "<table border=\"1\" class=\"dataframe\">\n",
       "  <thead>\n",
       "    <tr style=\"text-align: right;\">\n",
       "      <th></th>\n",
       "      <th>Stu_ID</th>\n",
       "      <th>SAPP_SUB_001</th>\n",
       "      <th>SAPP_SUB_002</th>\n",
       "      <th>SAPP_SUB_003</th>\n",
       "      <th>SAPP_SUB_004</th>\n",
       "      <th>SAPP_SUB_005</th>\n",
       "      <th>SAPP_SUB_006</th>\n",
       "      <th>SAPP_SUB_007</th>\n",
       "      <th>SAPP_SUB_008</th>\n",
       "      <th>SAPP_SUB_009</th>\n",
       "    </tr>\n",
       "  </thead>\n",
       "  <tbody>\n",
       "    <tr>\n",
       "      <th>4</th>\n",
       "      <td>SAPSS_2021_005</td>\n",
       "      <td>51</td>\n",
       "      <td>62</td>\n",
       "      <td>49</td>\n",
       "      <td>78</td>\n",
       "      <td>87</td>\n",
       "      <td>46</td>\n",
       "      <td>10</td>\n",
       "      <td>99</td>\n",
       "      <td>89</td>\n",
       "    </tr>\n",
       "    <tr>\n",
       "      <th>5</th>\n",
       "      <td>SAPSS_2021_006</td>\n",
       "      <td>31</td>\n",
       "      <td>47</td>\n",
       "      <td>69</td>\n",
       "      <td>87</td>\n",
       "      <td>79</td>\n",
       "      <td>45</td>\n",
       "      <td>52</td>\n",
       "      <td>43</td>\n",
       "      <td>88</td>\n",
       "    </tr>\n",
       "    <tr>\n",
       "      <th>6</th>\n",
       "      <td>SAPSS_2021_007</td>\n",
       "      <td>37</td>\n",
       "      <td>55</td>\n",
       "      <td>69</td>\n",
       "      <td>19</td>\n",
       "      <td>92</td>\n",
       "      <td>29</td>\n",
       "      <td>13</td>\n",
       "      <td>89</td>\n",
       "      <td>67</td>\n",
       "    </tr>\n",
       "    <tr>\n",
       "      <th>7</th>\n",
       "      <td>SAPSS_2021_008</td>\n",
       "      <td>74</td>\n",
       "      <td>99</td>\n",
       "      <td>81</td>\n",
       "      <td>45</td>\n",
       "      <td>76</td>\n",
       "      <td>30</td>\n",
       "      <td>95</td>\n",
       "      <td>94</td>\n",
       "      <td>10</td>\n",
       "    </tr>\n",
       "    <tr>\n",
       "      <th>8</th>\n",
       "      <td>SAPSS_2021_009</td>\n",
       "      <td>21</td>\n",
       "      <td>16</td>\n",
       "      <td>57</td>\n",
       "      <td>65</td>\n",
       "      <td>19</td>\n",
       "      <td>69</td>\n",
       "      <td>32</td>\n",
       "      <td>85</td>\n",
       "      <td>16</td>\n",
       "    </tr>\n",
       "  </tbody>\n",
       "</table>\n",
       "</div>"
      ],
      "text/plain": [
       "           Stu_ID  SAPP_SUB_001  SAPP_SUB_002  SAPP_SUB_003  SAPP_SUB_004  \\\n",
       "4  SAPSS_2021_005            51            62            49            78   \n",
       "5  SAPSS_2021_006            31            47            69            87   \n",
       "6  SAPSS_2021_007            37            55            69            19   \n",
       "7  SAPSS_2021_008            74            99            81            45   \n",
       "8  SAPSS_2021_009            21            16            57            65   \n",
       "\n",
       "   SAPP_SUB_005  SAPP_SUB_006  SAPP_SUB_007  SAPP_SUB_008  SAPP_SUB_009  \n",
       "4            87            46            10            99            89  \n",
       "5            79            45            52            43            88  \n",
       "6            92            29            13            89            67  \n",
       "7            76            30            95            94            10  \n",
       "8            19            69            32            85            16  "
      ]
     },
     "execution_count": 11,
     "metadata": {},
     "output_type": "execute_result"
    }
   ],
   "source": [
    "file_path_02 =r\"Dataset/Exam_TBL.xlsx\"\n",
    "Exam_TBL_df = pd.read_excel(file_path_02, sheet_name='Sheet1')\n",
    "Exam_TBL_df.tail()"
   ]
  },
  {
   "cell_type": "code",
   "execution_count": 12,
   "id": "59c85ee4-39b4-4a43-882d-5f6b4425fec5",
   "metadata": {},
   "outputs": [],
   "source": [
    "# app=xw.(visible=False)"
   ]
  },
  {
   "cell_type": "code",
   "execution_count": 13,
   "id": "a3c39461-5761-439a-ac26-1fd4107e2b25",
   "metadata": {},
   "outputs": [
    {
     "ename": "NameError",
     "evalue": "name 'app' is not defined",
     "output_type": "error",
     "traceback": [
      "\u001b[1;31m---------------------------------------------------------------------------\u001b[0m",
      "\u001b[1;31mNameError\u001b[0m                                 Traceback (most recent call last)",
      "Cell \u001b[1;32mIn[13], line 4\u001b[0m\n\u001b[0;32m      2\u001b[0m \u001b[38;5;28;01mfor\u001b[39;00m index, row \u001b[38;5;129;01min\u001b[39;00m Exam_TBL_df\u001b[38;5;241m.\u001b[39miterrows():\n\u001b[0;32m      3\u001b[0m     file_path\u001b[38;5;241m=\u001b[39m\u001b[38;5;124m'\u001b[39m\u001b[38;5;124mTemplate//Report_Card.xlsx\u001b[39m\u001b[38;5;124m'\u001b[39m\n\u001b[1;32m----> 4\u001b[0m     wb\u001b[38;5;241m=\u001b[39m\u001b[43mapp\u001b[49m\u001b[38;5;241m.\u001b[39mbooks\u001b[38;5;241m.\u001b[39mopen(file_path)\n\u001b[0;32m      5\u001b[0m     ws\u001b[38;5;241m=\u001b[39mwb\u001b[38;5;241m.\u001b[39msheets[\u001b[38;5;124m'\u001b[39m\u001b[38;5;124mReport_Card\u001b[39m\u001b[38;5;124m'\u001b[39m]\n\u001b[0;32m      7\u001b[0m     ws[\u001b[38;5;124m'\u001b[39m\u001b[38;5;124mD10\u001b[39m\u001b[38;5;124m'\u001b[39m]\u001b[38;5;241m.\u001b[39mvalue \u001b[38;5;241m=\u001b[39m row[\u001b[38;5;124m'\u001b[39m\u001b[38;5;124mStu_ID\u001b[39m\u001b[38;5;124m'\u001b[39m]\n",
      "\u001b[1;31mNameError\u001b[0m: name 'app' is not defined"
     ]
    }
   ],
   "source": [
    "output_folder='output//'\n",
    "for index, row in Exam_TBL_df.iterrows():\n",
    "    file_path='Template//Report_Card.xlsx'\n",
    "    wb=app.books.open(file_path)\n",
    "    ws=wb.sheets['Report_Card']\n",
    "\n",
    "    ws['D10'].value = row['Stu_ID']\n",
    "    ws['H15'].value = row['SAPP_SUB_001']\n",
    "    x,y = get_grade(row['SAPP_SUB_001'])\n",
    "    ws['I15'].value = x\n",
    "    ws['J15'].value = y    \n",
    "    ws['H16'].value = row['SAPP_SUB_002']\n",
    "    ws['H17'].value = row['SAPP_SUB_003']\n",
    "    ws['H18'].value = row['SAPP_SUB_004']\n",
    "    ws['H19'].value = row['SAPP_SUB_005']\n",
    "    ws['H20'].value = row['SAPP_SUB_006']\n",
    "    ws['H21'].value = row['SAPP_SUB_007']\n",
    "    ws['H22'].value = row['SAPP_SUB_008']\n",
    "    ws['H23'].value = row['SAPP_SUB_009']\n",
    "    #save\n",
    "    XL_file_name=output_folder+str(row['Stu_ID'])+'.xlsx'\n",
    "    wb.save(XL_file_name)\n",
    "    wb.close()"
   ]
  },
  {
   "cell_type": "code",
   "execution_count": null,
   "id": "612f5ea3-a5ae-4e38-b169-8538af0efc9c",
   "metadata": {},
   "outputs": [],
   "source": []
  },
  {
   "cell_type": "code",
   "execution_count": null,
   "id": "20ebc62a-7b50-447b-b7d7-1e178b5e6660",
   "metadata": {},
   "outputs": [],
   "source": []
  }
 ],
 "metadata": {
  "kernelspec": {
   "display_name": "Python 3 (ipykernel)",
   "language": "python",
   "name": "python3"
  },
  "language_info": {
   "codemirror_mode": {
    "name": "ipython",
    "version": 3
   },
   "file_extension": ".py",
   "mimetype": "text/x-python",
   "name": "python",
   "nbconvert_exporter": "python",
   "pygments_lexer": "ipython3",
   "version": "3.12.2"
  }
 },
 "nbformat": 4,
 "nbformat_minor": 5
}
